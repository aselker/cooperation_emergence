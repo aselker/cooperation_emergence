{
 "cells": [
  {
   "cell_type": "code",
   "execution_count": 1,
   "metadata": {},
   "outputs": [],
   "source": [
    "#!/usr/bin/env python3\n",
    "\n",
    "import numpy as np\n",
    "import matplotlib.pyplot as plt\n",
    "import matplotlib.patches as mpatches\n",
    "from time import sleep\n",
    "from enum import Enum\n",
    "import copy\n",
    "from scipy.signal import correlate2d\n",
    "import random\n",
    "import time\n",
    "import datetime\n",
    "import json\n",
    "import os\n",
    "\n",
    "# Here's how animate works\n",
    "# https://stackoverflow.com/questions/24816237/ipython-notebook-clear-cell-output-in-code\n",
    "# https://ipython.readthedocs.io/en/stable/api/generated/IPython.display.html#IPython.display.clear_output\n"
   ]
  },
  {
   "cell_type": "code",
   "execution_count": 2,
   "metadata": {},
   "outputs": [],
   "source": [
    "u = 0.09\n",
    "kernel = np.array(\n",
    "    [\n",
    "        [1 / 3, 1 / 3, 1 / 3, 1 / 3, 1 / 3, 1 / 3, 1 / 3],\n",
    "        [1 / 3, 1 / 2, 1 / 2, 1 / 2, 1 / 2, 1 / 2, 1 / 3],\n",
    "        [1 / 3, 1 / 2, 1, 1, 1, 1 / 2, 1 / 3],\n",
    "        [1 / 3, 1 / 2, 1, 0, 1, 1 / 2, 1 / 3],\n",
    "        [1 / 3, 1 / 2, 1, 1, 1, 1 / 2, 1 / 3],\n",
    "        [1 / 3, 1 / 2, 1 / 2, 1 / 2, 1 / 2, 1 / 2, 1 / 3],\n",
    "        [1 / 3, 1 / 3, 1 / 3, 1 / 3, 1 / 3, 1 / 3, 1 / 3],\n",
    "    ]\n",
    ")\n",
    "total_interactions = np.sum(kernel)\n",
    "kernel[2][2] = -u * total_interactions\n",
    "\n",
    "\n",
    "class Strategy(Enum):\n",
    "    c = 0\n",
    "    d = 1\n",
    "    s = 2\n",
    "    t = 3\n",
    "\n",
    "\n",
    "colors = {\n",
    "    Strategy.c: [1.0, 0, 0],\n",
    "    Strategy.d: [0, 0, 1.0],\n",
    "    (Strategy.s, 0): [0.1, 0, 0.9],\n",
    "    (Strategy.s, 1): [0.9, 0, 0.1],\n",
    "    Strategy.t: [0, 1.0, 0],\n",
    "}\n",
    "\n",
    "\n",
    "def underride(d, **options):\n",
    "    \"\"\"Add key-value pairs to d only if key is not in d.\n",
    "\n",
    "\td: dictionary\n",
    "\toptions: keyword args to add to d\n",
    "\t\"\"\"\n",
    "    for key, val in options.items():\n",
    "        d.setdefault(key, val)\n",
    "\n",
    "    return d"
   ]
  },
  {
   "cell_type": "code",
   "execution_count": 3,
   "metadata": {},
   "outputs": [],
   "source": [
    "class Agent:\n",
    "    def __init__(self, strategy=Strategy.d, silent_coop=False):\n",
    "\n",
    "        self.silent_coop_chance = 1e-4\n",
    "        self.inherent_fitness = 0\n",
    "        self.strategy = strategy\n",
    "        self.coop_valid = silent_coop\n",
    "        self.memory = 1\n",
    "\n",
    "        if silent_coop:\n",
    "            if np.random.random() < self.silent_coop_chance:\n",
    "                self.silent_coop = True\n",
    "                self.time_to_cooperate = int(np.random.exponential(200))\n",
    "                self.strategy = Strategy.s\n",
    "                # print(self.time_to_cooperate)\n",
    "            else:\n",
    "                self.time_to_cooperate = None\n",
    "                self.silent_coop = False\n",
    "        else:\n",
    "            self.time_to_cooperate = None\n",
    "            self.silent_coop = False\n",
    "\n",
    "    def __tostr__(self):\n",
    "        return str(self.strategy)\n",
    "\n",
    "    def cooperate_p(self, t):\n",
    "        if self.strategy == Strategy.c:\n",
    "            return True\n",
    "        elif self.strategy == Strategy.d:\n",
    "            return False\n",
    "        elif self.strategy == Strategy.s:\n",
    "            return self.time_to_cooperate < t\n",
    "        elif self.strategy == Strategy.t:\n",
    "            return self.memory > 0.4\n",
    "\n",
    "    def mutate(self, mutate_rate, curr_step):\n",
    "        \"\"\"\n",
    "\t\tPlaceholder function; fort the first type of world we do not have a mutate function,\n",
    "\t\tso we will come back to implmenet later\n",
    "\t\t\"\"\"\n",
    "        num = np.random.rand()\n",
    "        if num < mutate_rate:\n",
    "            if self.coop_valid:\n",
    "                self.strategy = Strategy.s\n",
    "                self.time_to_cooperate = int(np.random.exponential(200)) + curr_step\n",
    "                # print(\"that worked?!\", self.time_to_cooperate)\n",
    "            else:\n",
    "                if self.strategy == Strategy.d:\n",
    "                    self.strategy = Strategy.c\n",
    "\n",
    "    def add_memory(self, frac_coop):\n",
    "        self.memory = frac_coop\n"
   ]
  },
  {
   "cell_type": "code",
   "execution_count": 4,
   "metadata": {},
   "outputs": [],
   "source": [
    "class BasicWorld:\n",
    "    def __init__(\n",
    "        self,\n",
    "        n=50,\n",
    "        m=None,\n",
    "        do_mutation=False,\n",
    "        do_silent=False,\n",
    "        bounds=None,\n",
    "        mutate_rate=0,\n",
    "        silent_coop=False,\n",
    "    ):\n",
    "        \"\"\"\n",
    "\t\tbounds is a tuple of (x_start, y_start, x_end, y_end) for a block of\n",
    "\t\tcooperators among the sea of defectors.\n",
    "\t\t\"\"\"\n",
    "\n",
    "        def agent_at_pos(x, y):\n",
    "            if bounds is None:\n",
    "                return Agent(silent_coop=silent_coop)\n",
    "            else:\n",
    "                if (bounds[0] < x < bounds[2]) and (bounds[1] < y < bounds[3]):\n",
    "                    # return Agent(strategy=Strategy.c, silent_coop=silent_coop)\n",
    "                    return Agent(strategy=Strategy.t, silent_coop=silent_coop)\n",
    "                else:\n",
    "                    return Agent(silent_coop=silent_coop)\n",
    "\n",
    "        self.curr_step = 0\n",
    "\n",
    "        self.mutate_rate = mutate_rate\n",
    "\n",
    "        self.n = n\n",
    "        if m is None:\n",
    "            m = self.n\n",
    "        self.m = m\n",
    "\n",
    "        self.array = [\n",
    "            [agent_at_pos(x, y) for x in range(self.m)] for y in range(self.n)\n",
    "        ]\n",
    "\n",
    "        self.inherent_fitness_increment_prob = 0.001\n",
    "        self.inherent_fitness_increment_amt = 0.1\n",
    "        self.normalization_constant = 24 * (1 + u)\n",
    "\n",
    "    def make_pd_results(self):\n",
    "        \"\"\"\n",
    "\t\tMakes an n x m array, where elements are the fitnesses that agents get\n",
    "\t\tfrom playing the PD, both from defecting and from having others\n",
    "\t\tcooperate with them.  Boundary conditions are periodic, i.e. agents at\n",
    "\t\tthe far left play against agents at the far right.\n",
    "\t\t\"\"\"\n",
    "        coop_array = np.array(\n",
    "            [\n",
    "                [1 if agent.cooperate_p(self.curr_step) else 0 for agent in row]\n",
    "                for row in self.array\n",
    "            ]\n",
    "        )\n",
    "\n",
    "        pd_results = correlate2d(coop_array, kernel, mode=\"same\", boundary=\"wrap\")\n",
    "\n",
    "        frac_coop = (pd_results - (coop_array * kernel[2][2])) / total_interactions\n",
    "        for i, row in enumerate(self.array):\n",
    "            for j, agent in enumerate(row):\n",
    "                agent.add_memory(frac_coop[i, j])\n",
    "\n",
    "        return pd_results\n",
    "\n",
    "    def make_fitness_array(self):\n",
    "        \"\"\"\n",
    "\t\tMakes an n x m array, where each element is that agent's fitness,\n",
    "\t\tderived from its and others' behaviors and their inherent fitnesses.\n",
    "\t\t\"\"\"\n",
    "        inherent_fitnesses = np.array(\n",
    "            [[agent.inherent_fitness for agent in row] for row in self.array]\n",
    "        )\n",
    "        pd_results = self.make_pd_results()\n",
    "        return pd_results + inherent_fitnesses\n",
    "\n",
    "    def step(self):\n",
    "        \"\"\"\n",
    "\t\tRuns a step of the simulation.\n",
    "\t\t* Calculate fitness of each agent\n",
    "\t\t* Figure out who conquers whom, and let them conquer\n",
    "\t\t* Randomly increment inherent fitnesses\n",
    "\t\t\"\"\"\n",
    "        # make fitness array\n",
    "        arr = self.make_fitness_array()\n",
    "\n",
    "        # determine who conquers whom in the local area\n",
    "        # ORIGINAL IMPLEMENTATION:\n",
    "        # for \"conquering\", we look at every cell in a random order\n",
    "        # after picking a cell we then look at ONE OF the four \"direct\" neighbors (cardinal directions)\n",
    "        # we compare fitnesses. If our current cell is higher, do nothing.\n",
    "        # If our current cell has lower fitness we can be replaced with the other cell\n",
    "\n",
    "        conquering_pairs = []  # Pairs of (conqueror, to_be_conquered)\n",
    "        locs = [(x, y) for x in range(self.m) for y in range(self.m)]\n",
    "        np.random.shuffle(locs)\n",
    "\n",
    "        def nonce_func_1():\n",
    "            for x, y in locs:\n",
    "                cells_to_compare = [\n",
    "                    ((x - 1) % self.m, y),\n",
    "                    ((x + 1) % self.m, y),\n",
    "                    (x, (y - 1) % self.n),\n",
    "                    (x, (y + 1) % self.n),\n",
    "                ]\n",
    "                look_loc = cells_to_compare[\n",
    "                    random.getrandbits(2)\n",
    "                ]  # Faster than randint\n",
    "\n",
    "                invader_val = arr[look_loc[0]][look_loc[1]]\n",
    "                curr_val = arr[x][y]\n",
    "\n",
    "                if invader_val > curr_val:\n",
    "                    if (\n",
    "                        invader_val - curr_val\n",
    "                    ) / self.normalization_constant > np.random.rand(1, 1):\n",
    "                        conquering_pairs.append((look_loc, (x, y)))\n",
    "\n",
    "        nonce_func_1()\n",
    "\n",
    "        # have conquering happen [update matrices/agents] -> mutation at odds mut_chance or whatever\n",
    "        for x in conquering_pairs:\n",
    "            conqueror_loc = x[0]\n",
    "            conquered_loc = x[1]\n",
    "            self.array[conquered_loc[0]][conquered_loc[1]] = copy.deepcopy(\n",
    "                self.array[conqueror_loc[0]][conqueror_loc[1]]\n",
    "            )\n",
    "            self.array[conquered_loc[0]][conquered_loc[1]].mutate(\n",
    "                mutate_rate=self.mutate_rate, curr_step=self.curr_step\n",
    "            )\n",
    "\n",
    "        # Increment random inherent_fitness vars\n",
    "        for agent in [agent for row in self.array for agent in row]:\n",
    "            if np.random.random() < self.inherent_fitness_increment_prob:\n",
    "                agent.inherent_fitness += self.inherent_fitness_increment_amt\n",
    "\n",
    "        self.curr_step += 1\n",
    "\n",
    "        return\n",
    "\n",
    "    def draw_array(self, array, **options):\n",
    "        \"\"\"Draws the cells.\"\"\"\n",
    "        n, m, _ = array.shape\n",
    "        options = underride(\n",
    "            options,\n",
    "            # cmap=\"bwr\",\n",
    "            alpha=1,\n",
    "            vmin=0,\n",
    "            vmax=1,\n",
    "            interpolation=\"none\",\n",
    "            origin=\"upper\",\n",
    "            extent=[0, m, 0, n],\n",
    "        )\n",
    "\n",
    "        plt.axis([0, m, 0, n])\n",
    "        plt.xticks([])\n",
    "        plt.yticks([])\n",
    "        plt.title(f\"World state on turn {self.curr_step}\")\n",
    "        red_patch = mpatches.Patch(color=colors[Strategy.c], label=\"Cooperator\")\n",
    "        blue_patch = mpatches.Patch(color=colors[Strategy.d], label=\"Defector\")\n",
    "        green_patch = mpatches.Patch(color=colors[Strategy.t], label=\"Tit-For-Tat\")\n",
    "        plt.legend(\n",
    "            handles=[red_patch, blue_patch, green_patch],\n",
    "            loc=\"center left\",\n",
    "            bbox_to_anchor=(1, 0.5),\n",
    "        )\n",
    "\n",
    "        return plt.imshow(array, **options)\n",
    "\n",
    "    def draw(self, interval=None, step=None):\n",
    "        \"\"\"\n",
    "\t\tGets the current np array state then draws the array\n",
    "\t\t\"\"\"\n",
    "\n",
    "        def agent_to_color(agent):\n",
    "            if agent.strategy == Strategy.s:\n",
    "                return colors[(Strategy.s, agent.cooperate_p(self.curr_step))]\n",
    "            else:\n",
    "                return colors[agent.strategy]\n",
    "\n",
    "        arr = np.asarray(\n",
    "            [[agent_to_color(agent) for agent in row] for row in self.array]\n",
    "        )\n",
    "\n",
    "        self.draw_array(arr)\n",
    "\n",
    "    def animate(self, frames, interval=None, skip=0, step=None):\n",
    "        \"\"\"Animate the automaton.\n",
    "\n",
    "\t\tframes: number of frames to draw\n",
    "\t\tinterval: time between frames in seconds\n",
    "\t\titers: number of steps between frames\n",
    "\t\t\"\"\"\n",
    "        if step is None:\n",
    "            step = self.step\n",
    "\n",
    "        if interval is None:\n",
    "            interval = 0.01\n",
    "\n",
    "        plt.figure()\n",
    "        try:\n",
    "            for i in range(frames - 1):\n",
    "                self.draw()\n",
    "                # plt.show(block=False)\n",
    "                plt.pause(interval)\n",
    "                for _ in range(skip + 1):\n",
    "                    step()\n",
    "                plt.clf()\n",
    "                # clear_output(wait=True)\n",
    "            self.draw()\n",
    "            plt.show()\n",
    "        except KeyboardInterrupt:\n",
    "            pass\n",
    "\n",
    "    def get_stats(self):\n",
    "        \"\"\"\n",
    "\t\tGet some summary statistics that might be useful for graphing.  Stats\n",
    "\t\tare returned as a dict.\n",
    "\t\tStats are:\n",
    "\t\t* \"time\" : current timestep\n",
    "\t\t* \"num_c\", \"num_d\", \"num_s\": Number of agents in each state\n",
    "\t\tTODO: Should we refactor this so it returns lists or something?\n",
    "\t\t\"\"\"\n",
    "\n",
    "        stats = {\"time\": self.curr_step}\n",
    "\n",
    "        def count_strat(s):\n",
    "            return np.sum(\n",
    "                [\n",
    "                    (1 if agent.strategy == s else 0)\n",
    "                    for row in self.array\n",
    "                    for agent in row\n",
    "                ]\n",
    "            )\n",
    "\n",
    "        stats[\"num_c\"] = count_strat(Strategy.c)\n",
    "        stats[\"num_d\"] = count_strat(Strategy.d)\n",
    "        stats[\"num_s\"] = count_strat(Strategy.s)\n",
    "        stats[\"num_t\"] = count_strat(Strategy.t)\n",
    "\n",
    "        return stats"
   ]
  },
  {
   "cell_type": "code",
   "execution_count": 6,
   "metadata": {},
   "outputs": [
    {
     "data": {
      "image/png": "[encoded data removed]",
      "text/plain": [
       "<Figure size 432x288 with 1 Axes>"
      ]
     },
     "metadata": {},
     "output_type": "display_data"
    },
    {
     "name": "stdout",
     "output_type": "stream",
     "text": [
      "0.0\n"
     ]
    },
    {
     "data": {
      "image/png": "[encoded data removed]",
      "text/plain": [
       "<Figure size 432x288 with 1 Axes>"
      ]
     },
     "metadata": {},
     "output_type": "display_data"
    },
    {
     "name": "stdout",
     "output_type": "stream",
     "text": [
      "10.0\n"
     ]
    },
    {
     "data": {
      "image/png": "[encoded data removed]",
      "text/plain": [
       "<Figure size 432x288 with 1 Axes>"
      ]
     },
     "metadata": {},
     "output_type": "display_data"
    },
    {
     "name": "stdout",
     "output_type": "stream",
     "text": [
      "20.0\n"
     ]
    },
    {
     "data": {
      "image/png": "[encoded data removed]",
      "text/plain": [
       "<Figure size 432x288 with 1 Axes>"
      ]
     },
     "metadata": {},
     "output_type": "display_data"
    },
    {
     "name": "stdout",
     "output_type": "stream",
     "text": [
      "30.0\n"
     ]
    },
    {
     "data": {
      "image/png": "[encoded data removed]",
      "text/plain": [
       "<Figure size 432x288 with 1 Axes>"
      ]
     },
     "metadata": {},
     "output_type": "display_data"
    },
    {
     "name": "stdout",
     "output_type": "stream",
     "text": [
      "40.0\n"
     ]
    },
    {
     "data": {
      "image/png": "[encoded data removed]",
      "text/plain": [
       "<Figure size 432x288 with 1 Axes>"
      ]
     },
     "metadata": {},
     "output_type": "display_data"
    },
    {
     "name": "stdout",
     "output_type": "stream",
     "text": [
      "50.0\n"
     ]
    },
    {
     "data": {
      "image/png": "[encoded data removed]",
      "text/plain": [
       "<Figure size 432x288 with 1 Axes>"
      ]
     },
     "metadata": {},
     "output_type": "display_data"
    },
    {
     "name": "stdout",
     "output_type": "stream",
     "text": [
      "60.0\n"
     ]
    },
    {
     "data": {
      "image/png": "[encoded data removed]",
      "text/plain": [
       "<Figure size 432x288 with 1 Axes>"
      ]
     },
     "metadata": {},
     "output_type": "display_data"
    },
    {
     "name": "stdout",
     "output_type": "stream",
     "text": [
      "70.0\n"
     ]
    },
    {
     "data": {
      "image/png": "[encoded data removed]",
      "text/plain": [
       "<Figure size 432x288 with 1 Axes>"
      ]
     },
     "metadata": {},
     "output_type": "display_data"
    },
    {
     "name": "stdout",
     "output_type": "stream",
     "text": [
      "80.0\n"
     ]
    },
    {
     "data": {
      "image/png": "[encoded data removed]",
      "text/plain": [
       "<Figure size 432x288 with 1 Axes>"
      ]
     },
     "metadata": {},
     "output_type": "display_data"
    },
    {
     "name": "stdout",
     "output_type": "stream",
     "text": [
      "90.0\n"
     ]
    },
    {
     "data": {
      "image/png": "[encoded data removed]",
      "text/plain": [
       "<Figure size 432x288 with 1 Axes>"
      ]
     },
     "metadata": {},
     "output_type": "display_data"
    },
    {
     "data": {
      "image/png": "[encoded data removed]",
      "text/plain": [
       "<Figure size 432x288 with 1 Axes>"
      ]
     },
     "metadata": {
      "needs_background": "light"
     },
     "output_type": "display_data"
    }
   ],
   "source": [
    "mutate_rate = 1e-4\n",
    "num = 1\n",
    "# Experiment 1:\n",
    "# mutate_rate = 0\n",
    "# num = 10000\n",
    "# world = BasicWorld(n=50, bounds=[17,17,22,22], mutate_rate=mutate_rate, silent_coop=False)\n",
    "\n",
    "# Experiment 2:\n",
    "# mutate_rate = 1e-2\n",
    "# num = 10000\n",
    "# world = BasicWorld(n=50, mutate_rate=mutate_rate, silent_coop=False)\n",
    "\n",
    "# Experiment 3:\n",
    "mutate_rate = 1e-2\n",
    "num = 10000\n",
    "world = BasicWorld(n=50, mutate_rate=mutate_rate, silent_coop=True)\n",
    "\n",
    "# Experiment 4:\n",
    "# mutate_rate = 1e-4\n",
    "# num = 100000\n",
    "\n",
    "# Experiment 5:\n",
    "# mutate_rate = 1e-2\n",
    "# num = 10000\n",
    "#world = BasicWorld(n=50, do_mutation=False, bounds=(17, 17, 23, 23), silent_coop=False)\n",
    "\n",
    "\n",
    "stats = {\"time\": [], \"num_c\": [], \"num_d\": [], \"num_s\": [], \"num_t\": []}\n",
    "\n",
    "for x in range(num):\n",
    "    world.step()\n",
    "    for key, value in world.get_stats().items():\n",
    "        if type(value) == np.int64:\n",
    "            stats[key].append(int(value))\n",
    "        else:\n",
    "            stats[key].append(value)\n",
    "\n",
    "    if x % 1000 == 0:\n",
    "        # if False:\n",
    "        world.animate(1)\n",
    "        print(x / num * 100)\n",
    "\n",
    "world.animate(1)\n",
    "\n",
    "if max(stats[\"num_c\"]) > 0:\n",
    "    plt.plot(stats[\"time\"], stats[\"num_c\"], label=\"Cooperators\")\n",
    "if max(stats[\"num_d\"]) > 0:\n",
    "    plt.plot(stats[\"time\"], stats[\"num_d\"], label=\"Defectors\")\n",
    "if max(stats[\"num_s\"]) > 0:\n",
    "    plt.plot(stats[\"time\"], stats[\"num_s\"], label=\"Silents\")\n",
    "if max(stats[\"num_t\"]) > 0:\n",
    "    plt.plot(stats[\"time\"], stats[\"num_t\"], label=\"Tit-For-Tats\")\n",
    "\n",
    "plt.xlabel(\"Time (steps)\")\n",
    "plt.ylabel(\"Number of agents\")\n",
    "plt.legend()\n",
    "plt.show()\n",
    "\n",
    "\n"
   ]
  },
  {
   "cell_type": "code",
   "execution_count": 7,
   "metadata": {},
   "outputs": [],
   "source": [
    "# Dump json if local\n",
    "jsons = \"jsons/\"\n",
    "file = f'{num}_timesteps_on_{datetime.datetime.now().strftime(\"%B %d %Y at %I:%M:%S%p\")}.json'\n",
    "if not os.path.isdir(jsons):\n",
    "    os.mkdir(jsons)\n",
    "json.dump(stats, open(jsons + file, \"w\"), sort_keys=True, indent=4)"
   ]
  },
  {
   "cell_type": "code",
   "execution_count": null,
   "metadata": {},
   "outputs": [],
   "source": []
  }
 ],
 "metadata": {
  "kernelspec": {
   "display_name": "Python 3",
   "language": "python",
   "name": "python3"
  },
  "language_info": {
   "codemirror_mode": {
    "name": "ipython",
    "version": 3
   },
   "file_extension": ".py",
   "mimetype": "text/x-python",
   "name": "python",
   "nbconvert_exporter": "python",
   "pygments_lexer": "ipython3",
   "version": "3.7.4"
  }
 },
 "nbformat": 4,
 "nbformat_minor": 2
}
